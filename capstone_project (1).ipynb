{
 "cells": [
  {
   "cell_type": "code",
   "execution_count": 3,
   "id": "fd968192-4fd4-4c05-8881-41917b8d142f",
   "metadata": {},
   "outputs": [
    {
     "name": "stdout",
     "output_type": "stream",
     "text": [
      "Task 1 Completed: Data saved as CSV files.\n"
     ]
    }
   ],
   "source": [
    "import pandas as pd\n",
    "\n",
    "# Employee DataFrame\n",
    "employee_data = {\n",
    "    \"ID\": [\"A001\", \"A002\", \"A003\", \"A004\", \"A005\"],\n",
    "    \"Name\": [\"John Alter\", \"Alice Luxumberg\", \"Tom Sabestine\", \"Nina Adgra\", \"Amy Johny\"],\n",
    "    \"Gender\": [\"M\", \"F\", \"M\", \"F\", \"F\"],\n",
    "    \"City\": [\"Paris\", \"London\", \"Berlin\", \"Newyork\", \"Madrid\"],\n",
    "    \"Age\": [25, 27, 29, 31, 30]\n",
    "}\n",
    "df_employee = pd.DataFrame(employee_data)\n",
    "df_employee.to_csv(\"Employee.csv\", index=False)\n",
    "\n",
    "# Seniority Level DataFrame\n",
    "seniority_data = {\n",
    "    \"ID\": [\"A001\", \"A002\", \"A003\", \"A004\", \"A005\"],\n",
    "    \"Designation Level\": [2, 2, 3, 2, 3]\n",
    "}\n",
    "df_seniority = pd.DataFrame(seniority_data)\n",
    "df_seniority.to_csv(\"Seniority.csv\", index=False)\n",
    "\n",
    "# Project DataFrame\n",
    "project_data = {\n",
    "    \"ID\": [\"A001\", \"A002\", \"A003\", \"A004\", \"A005\", \"A002\", \"A005\", \"A003\", \"A001\", \"A003\", \"A001\", \"A004\", \"A004\", \"A005\"],\n",
    "    \"Project\": [\"Project 1\", \"Project 2\", \"Project 3\", \"Project 4\", \"Project 5\", \"Project 6\", \"Project 7\", \"Project 8\", \"Project 9\",\n",
    "                \"Project 10\", \"Project 11\", \"Project 12\", \"Project 13\", \"Project 14\"],\n",
    "    \"Cost\": [1002000, 2000000, 4500000, 5500000, None, 680000, 400000, 350000, None, 300000, 2000000, 1000000, 3000000, 200000],\n",
    "    \"Status\": [\"Finished\", \"Ongoing\", \"Finished\", \"Ongoing\", \"Finished\", \"Failed\", \"Finished\", \"Failed\", \"Ongoing\", \n",
    "               \"Finished\", \"Failed\", \"Ongoing\", \"Finished\", \"Finished\"]\n",
    "}\n",
    "df_project = pd.DataFrame(project_data)\n",
    "df_project.to_csv(\"Project.csv\", index=False)\n",
    "\n",
    "print(\"Task 1 Completed: Data saved as CSV files.\")\n"
   ]
  },
  {
   "cell_type": "code",
   "execution_count": 5,
   "id": "f34030d5-92bf-4b60-82b9-544bbe6c7cde",
   "metadata": {},
   "outputs": [
    {
     "name": "stdout",
     "output_type": "stream",
     "text": [
      "Task 2 Completed: Missing cost values replaced.\n"
     ]
    }
   ],
   "source": [
    "import numpy as np\n",
    "\n",
    "df_project = pd.read_csv(\"Project.csv\")\n",
    "\n",
    "# Compute running average for missing values\n",
    "costs = df_project[\"Cost\"].to_list()\n",
    "for i in range(len(costs)):\n",
    "    if pd.isna(costs[i]):  # If cost is missing\n",
    "        costs[i] = np.mean([x for x in costs[:i] if not pd.isna(x)])  # Running average\n",
    "\n",
    "df_project[\"Cost\"] = costs\n",
    "df_project.to_csv(\"Project.csv\", index=False)\n",
    "\n",
    "print(\"Task 2 Completed: Missing cost values replaced.\")\n"
   ]
  },
  {
   "cell_type": "code",
   "execution_count": 7,
   "id": "38b83a9a-2780-427c-9df1-595e3a0de338",
   "metadata": {},
   "outputs": [
    {
     "name": "stdout",
     "output_type": "stream",
     "text": [
      "Task 3 Completed: Name column split.\n"
     ]
    }
   ],
   "source": [
    "df_employee = pd.read_csv(\"Employee.csv\")\n",
    "\n",
    "df_employee[[\"First Name\", \"Last Name\"]] = df_employee[\"Name\"].str.split(\" \", expand=True)\n",
    "df_employee.drop(columns=[\"Name\"], inplace=True)\n",
    "\n",
    "df_employee.to_csv(\"Employee.csv\", index=False)\n",
    "print(\"Task 3 Completed: Name column split.\")\n",
    "\n"
   ]
  },
  {
   "cell_type": "code",
   "execution_count": 9,
   "id": "fc5a8231-8b7d-4f69-98a6-c6b85f5f8322",
   "metadata": {},
   "outputs": [
    {
     "name": "stdout",
     "output_type": "stream",
     "text": [
      "Task 4 Completed: DataFrames merged into Final.csv.\n"
     ]
    }
   ],
   "source": [
    "df_final = df_employee.merge(df_seniority, on=\"ID\").merge(df_project, on=\"ID\")\n",
    "df_final.to_csv(\"Final.csv\", index=False)\n",
    "\n",
    "print(\"Task 4 Completed: DataFrames merged into Final.csv.\")\n"
   ]
  },
  {
   "cell_type": "code",
   "execution_count": 11,
   "id": "8a72922a-8472-40a9-8057-44157534d8f9",
   "metadata": {},
   "outputs": [
    {
     "name": "stdout",
     "output_type": "stream",
     "text": [
      "Task 5 Completed: Bonus column added.\n"
     ]
    }
   ],
   "source": [
    "df_final[\"Bonus\"] = df_final.apply(lambda row: row[\"Cost\"] * 0.05 if row[\"Status\"] == \"Finished\" else 0, axis=1)\n",
    "df_final.to_csv(\"Final.csv\", index=False)\n",
    "\n",
    "print(\"Task 5 Completed: Bonus column added.\")\n"
   ]
  },
  {
   "cell_type": "code",
   "execution_count": 13,
   "id": "de74e79a-e68a-4c9d-b5f1-b0e3f8630243",
   "metadata": {},
   "outputs": [
    {
     "name": "stdout",
     "output_type": "stream",
     "text": [
      "Task 6 Completed: Designation levels adjusted.\n"
     ]
    }
   ],
   "source": [
    "failed_ids = df_final[df_final[\"Status\"] == \"Failed\"][\"ID\"].unique()\n",
    "\n",
    "df_final.loc[df_final[\"ID\"].isin(failed_ids), \"Designation Level\"] += 1\n",
    "df_final = df_final[df_final[\"Designation Level\"] <= 4]\n",
    "\n",
    "df_final.to_csv(\"Final.csv\", index=False)\n",
    "print(\"Task 6 Completed: Designation levels adjusted.\")\n",
    "\n"
   ]
  },
  {
   "cell_type": "code",
   "execution_count": 15,
   "id": "24cd9ab9-483c-4b35-a8dc-cba7292cc3a5",
   "metadata": {},
   "outputs": [
    {
     "name": "stdout",
     "output_type": "stream",
     "text": [
      "Task 7 Completed: Names updated.\n"
     ]
    }
   ],
   "source": [
    "df_final[\"First Name\"] = df_final.apply(lambda row: (\"Mr. \" if row[\"Gender\"] == \"M\" else \"Mrs. \") + row[\"First Name\"], axis=1)\n",
    "df_final.drop(columns=[\"Gender\"], inplace=True)\n",
    "\n",
    "df_final.to_csv(\"Final.csv\", index=False)\n",
    "print(\"Task 7 Completed: Names updated.\")\n"
   ]
  },
  {
   "cell_type": "code",
   "execution_count": 17,
   "id": "8872cde4-aa2f-4664-bf3f-8a1d9a044506",
   "metadata": {},
   "outputs": [
    {
     "name": "stdout",
     "output_type": "stream",
     "text": [
      "Task 8 Completed: Older employees promoted.\n"
     ]
    }
   ],
   "source": [
    "df_final.loc[df_final[\"Age\"] > 29, \"Designation Level\"] -= 1\n",
    "df_final.to_csv(\"Final.csv\", index=False)\n",
    "\n",
    "print(\"Task 8 Completed: Older employees promoted.\")\n"
   ]
  },
  {
   "cell_type": "code",
   "execution_count": 19,
   "id": "5b1dc3f4-5273-432e-a43f-506540b573fd",
   "metadata": {},
   "outputs": [
    {
     "name": "stdout",
     "output_type": "stream",
     "text": [
      "Task 9 Completed: Total cost per employee calculated.\n"
     ]
    }
   ],
   "source": [
    "total_proj_cost = df_final.groupby([\"ID\", \"First Name\"])[\"Cost\"].sum().reset_index()\n",
    "total_proj_cost.rename(columns={\"Cost\": \"Total Cost\"}, inplace=True)\n",
    "\n",
    "total_proj_cost.to_csv(\"TotalProjCost.csv\", index=False)\n",
    "print(\"Task 9 Completed: Total cost per employee calculated.\")\n"
   ]
  },
  {
   "cell_type": "code",
   "execution_count": 21,
   "id": "2e5cd50a-7b83-4283-b31d-8f5cf7ac6f26",
   "metadata": {},
   "outputs": [
    {
     "name": "stdout",
     "output_type": "stream",
     "text": [
      "Employees in cities containing 'o':\n",
      "      ID     City  Age  First Name  Last Name  Designation Level     Project  \\\n",
      "3   A002   London   27  Mrs. Alice  Luxumberg                  3   Project 2   \n",
      "4   A002   London   27  Mrs. Alice  Luxumberg                  3   Project 6   \n",
      "8   A004  Newyork   31   Mrs. Nina      Adgra                  1   Project 4   \n",
      "9   A004  Newyork   31   Mrs. Nina      Adgra                  1  Project 12   \n",
      "10  A004  Newyork   31   Mrs. Nina      Adgra                  1  Project 13   \n",
      "\n",
      "         Cost    Status     Bonus  \n",
      "3   2000000.0   Ongoing       0.0  \n",
      "4    680000.0    Failed       0.0  \n",
      "8   5500000.0   Ongoing       0.0  \n",
      "9   1000000.0   Ongoing       0.0  \n",
      "10  3000000.0  Finished  150000.0  \n",
      "Task 10 Completed: Employees saved.\n"
     ]
    }
   ],
   "source": [
    "filtered_employees = df_final[df_final[\"City\"].str.contains(\"o\", case=False, na=False)]\n",
    "print(\"Employees in cities containing 'o':\")\n",
    "print(filtered_employees)\n",
    "\n",
    "filtered_employees.to_csv(\"Employees_with_o.csv\", index=False)\n",
    "print(\"Task 10 Completed: Employees saved.\")\n"
   ]
  },
  {
   "cell_type": "code",
   "execution_count": null,
   "id": "8309f3b1-85ac-43cd-9de5-7ba3033e81f5",
   "metadata": {},
   "outputs": [],
   "source": []
  }
 ],
 "metadata": {
  "kernelspec": {
   "display_name": "Python [conda env:base] *",
   "language": "python",
   "name": "conda-base-py"
  },
  "language_info": {
   "codemirror_mode": {
    "name": "ipython",
    "version": 3
   },
   "file_extension": ".py",
   "mimetype": "text/x-python",
   "name": "python",
   "nbconvert_exporter": "python",
   "pygments_lexer": "ipython3",
   "version": "3.12.7"
  }
 },
 "nbformat": 4,
 "nbformat_minor": 5
}
